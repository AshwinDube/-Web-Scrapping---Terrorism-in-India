{
 "cells": [
  {
   "cell_type": "markdown",
   "id": "23f821ae-38b4-4509-ad4a-8acbf6a65813",
   "metadata": {},
   "source": [
    "# Webscrapping Project "
   ]
  },
  {
   "cell_type": "markdown",
   "id": "b1daf46e-f86a-4748-b377-50a711cd7c1c",
   "metadata": {},
   "source": [
    "*  _Terrorism in India_"
   ]
  },
  {
   "cell_type": "code",
   "execution_count": 2,
   "id": "9cbe114e-8d74-4aa5-a0e2-d7402af3c761",
   "metadata": {},
   "outputs": [
    {
     "name": "stdout",
     "output_type": "stream",
     "text": [
      "Successfully imported\n",
      "<Response [200]>\n",
      "       Year Incidents of Killing Civilians Security Forces  \\\n",
      "0     2000*                 1385       641             441   \n",
      "1      2001                 2084      1024             628   \n",
      "2      2002                 1642       837             447   \n",
      "3      2003                 1427       563             319   \n",
      "4      2004                 1061       437             318   \n",
      "5      2005                 1004       454             220   \n",
      "6      2006                  694       256             172   \n",
      "7      2007                  427       127             119   \n",
      "8      2008                  261        71              85   \n",
      "9      2009                  208        53              73   \n",
      "10     2010                  189        34              69   \n",
      "11     2011                  119        33              31   \n",
      "12     2012                   70        19              18   \n",
      "13     2013                   84        19              53   \n",
      "14     2014                   91        28              47   \n",
      "15     2015                   86        19              41   \n",
      "16     2016                  112        14              88   \n",
      "17     2017                  163        54              83   \n",
      "18     2018                  206        86              95   \n",
      "19     2019                  135        42              78   \n",
      "20     2020                  140        33              56   \n",
      "21     2021                  153        36              45   \n",
      "22     2022                  151        30              30   \n",
      "23     2023                   72        12              33   \n",
      "24     2024                   44        18              23   \n",
      "25  Total**                12008      4940            3612   \n",
      "\n",
      "   Terrorists/Insurgents/Extremists Not Specified  Total  \n",
      "0                              1708             9   2799  \n",
      "1                              2345            14   4011  \n",
      "2                              1758            56   3098  \n",
      "3                              1504           121   2507  \n",
      "4                               962            72   1789  \n",
      "5                               987            56   1717  \n",
      "6                               607            90   1125  \n",
      "7                               498             0    744  \n",
      "8                               382             0    538  \n",
      "9                               247             0    373  \n",
      "10                              258             0    361  \n",
      "11                              117             0    181  \n",
      "12                               84             0    121  \n",
      "13                              100             0    172  \n",
      "14                              114             0    189  \n",
      "15                              115             0    175  \n",
      "16                              165             0    267  \n",
      "17                              220             0    357  \n",
      "18                              271             0    452  \n",
      "19                              163             0    283  \n",
      "20                              232             0    321  \n",
      "21                              193             0    274  \n",
      "22                              193             0    253  \n",
      "23                               87             2    134  \n",
      "24                               49             1     91  \n",
      "25                            13359           421  22332  \n"
     ]
    }
   ],
   "source": [
    "import pandas as pd\n",
    "from bs4 import BeautifulSoup as bs\n",
    "import requests\n",
    "\n",
    "print(\"Successfully imported\")\n",
    "\n",
    "URL = \"https://www.satp.org/datasheet-terrorist-attack/fatalities/india-jammukashmir\"\n",
    "response = requests.get(URL)\n",
    "print(response)\n",
    "\n",
    "soup = bs(response.text, \"html.parser\")\n",
    "table = soup.find(\"table\", class_=\"grid\")\n",
    "\n",
    "# Extract headers\n",
    "headers = [header.text.strip() for header in table.find_all(\"th\")]\n",
    "\n",
    "# Extract rows\n",
    "rows = []\n",
    "for row in table.find_all(\"tr\")[1:]:  # Skip the header row\n",
    "    cells = row.find_all(\"td\")\n",
    "    rows.append([cell.text.strip() for cell in cells])\n",
    "\n",
    "# Create DataFrame\n",
    "df = pd.DataFrame(rows, columns=headers)\n",
    "print(df)"
   ]
  },
  {
   "cell_type": "code",
   "execution_count": 3,
   "id": "83213c44-f073-4a02-a28c-f19381d1c1a0",
   "metadata": {},
   "outputs": [],
   "source": [
    "table = pd.DataFrame(df)"
   ]
  },
  {
   "cell_type": "code",
   "execution_count": 4,
   "id": "5ecc4696-83bb-4f5a-867e-a03f5985a25b",
   "metadata": {},
   "outputs": [],
   "source": [
    "table.to_csv('C:/Users/ashwi/OneDrive/Documents/My projects/Web Scrapping/ Terrorism')"
   ]
  },
  {
   "cell_type": "code",
   "execution_count": null,
   "id": "6443cb70-74ea-442f-9f01-aebeff0426fe",
   "metadata": {},
   "outputs": [],
   "source": []
  },
  {
   "cell_type": "code",
   "execution_count": null,
   "id": "c634ee23-18ef-430e-99e6-40d956aec09a",
   "metadata": {},
   "outputs": [],
   "source": []
  }
 ],
 "metadata": {
  "kernelspec": {
   "display_name": "Python 3 (ipykernel)",
   "language": "python",
   "name": "python3"
  },
  "language_info": {
   "codemirror_mode": {
    "name": "ipython",
    "version": 3
   },
   "file_extension": ".py",
   "mimetype": "text/x-python",
   "name": "python",
   "nbconvert_exporter": "python",
   "pygments_lexer": "ipython3",
   "version": "3.11.7"
  }
 },
 "nbformat": 4,
 "nbformat_minor": 5
}
